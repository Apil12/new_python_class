{
 "cells": [
  {
   "cell_type": "code",
   "execution_count": 1,
   "id": "e78d8f5e",
   "metadata": {
    "scrolled": true
   },
   "outputs": [],
   "source": [
    "#!pip install BeautifulSoup4\n",
    "#!pip install requests\n",
    "import requests\n",
    "from bs4 import BeautifulSoup\n",
    "url=('https://www.sharesansar.com/today-share-price')\n",
    "r=requests.get(url)\n"
   ]
  },
  {
   "cell_type": "code",
   "execution_count": 2,
   "id": "6e8e77a4",
   "metadata": {},
   "outputs": [],
   "source": [
    "data=r.content\n",
    "# data\n",
    "# info=BeautifulSoup(data,\"lxml\")\n"
   ]
  },
  {
   "cell_type": "code",
   "execution_count": 3,
   "id": "5b9677c5",
   "metadata": {},
   "outputs": [
    {
     "ename": "AttributeError",
     "evalue": "'bytes' object has no attribute 'table'",
     "output_type": "error",
     "traceback": [
      "\u001b[1;31m---------------------------------------------------------------------------\u001b[0m",
      "\u001b[1;31mAttributeError\u001b[0m                            Traceback (most recent call last)",
      "Cell \u001b[1;32mIn[3], line 1\u001b[0m\n\u001b[1;32m----> 1\u001b[0m table_data\u001b[38;5;241m=\u001b[39m\u001b[43mdata\u001b[49m\u001b[38;5;241;43m.\u001b[39;49m\u001b[43mtable\u001b[49m\n\u001b[0;32m      2\u001b[0m \u001b[38;5;66;03m# table_data\u001b[39;00m\n",
      "\u001b[1;31mAttributeError\u001b[0m: 'bytes' object has no attribute 'table'"
     ]
    }
   ],
   "source": [
    "table_data=info.table\n"
   ]
  },
  {
   "cell_type": "code",
   "execution_count": null,
   "id": "c052839e",
   "metadata": {},
   "outputs": [],
   "source": [
    "table_row=table_data.find_all(\"p\")\n",
    "table_row"
   ]
  },
  {
   "cell_type": "code",
   "execution_count": null,
   "id": "7383eb21",
   "metadata": {},
   "outputs": [],
   "source": [
    "combo=[]\n",
    "for row in table_row:\n",
    "    y=row.text.split('\\n')\n",
    "    combo.append(y)\n",
    "    "
   ]
  },
  {
   "cell_type": "code",
   "execution_count": null,
   "id": "d6834be9",
   "metadata": {},
   "outputs": [],
   "source": [
    "import csv\n",
    "file=open('Sharemarket.csv','w')\n",
    "x=csv.writer(file)\n",
    "x.writerows(combo)\n",
    "file.close()"
   ]
  },
  {
   "cell_type": "code",
   "execution_count": null,
   "id": "dde4e6c7",
   "metadata": {},
   "outputs": [],
   "source": [
    "import pandas as pd\n",
    "from matplotlib import pyplot as plt\n",
    "df=pd.read_csv('Sharemarket.csv')\n",
    "for datas in df.columns:\n",
    "    plt.plot((datas))\n",
    "    \n",
    "\n",
    "    \n",
    "plt.xlabel('X_axis')\n",
    "plt.ylabel('Y-axis')\n",
    "plt.title('Share stock Graph')\n",
    "plt.show()"
   ]
  }
 ],
 "metadata": {
  "kernelspec": {
   "display_name": "Python 3 (ipykernel)",
   "language": "python",
   "name": "python3"
  },
  "language_info": {
   "codemirror_mode": {
    "name": "ipython",
    "version": 3
   },
   "file_extension": ".py",
   "mimetype": "text/x-python",
   "name": "python",
   "nbconvert_exporter": "python",
   "pygments_lexer": "ipython3",
   "version": "3.11.2"
  }
 },
 "nbformat": 4,
 "nbformat_minor": 5
}
